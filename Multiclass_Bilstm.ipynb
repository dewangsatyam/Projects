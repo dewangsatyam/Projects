{
  "nbformat": 4,
  "nbformat_minor": 0,
  "metadata": {
    "colab": {
      "name": "Multiclass_Bilstm.ipynb",
      "provenance": [],
      "collapsed_sections": []
    },
    "kernelspec": {
      "name": "python3",
      "display_name": "Python 3"
    }
  },
  "cells": [
    {
      "cell_type": "code",
      "metadata": {
        "id": "X5z8FedyS8up",
        "colab_type": "code",
        "outputId": "53626c97-af90-4816-de7c-e63c6fb3c565",
        "colab": {
          "base_uri": "https://localhost:8080/",
          "height": 204
        }
      },
      "source": [
        "!wget https://s3.amazonaws.com/hr-testcases/859/assets/training.json"
      ],
      "execution_count": 40,
      "outputs": [
        {
          "output_type": "stream",
          "text": [
            "--2020-02-07 09:21:19--  https://s3.amazonaws.com/hr-testcases/859/assets/training.json\n",
            "Resolving s3.amazonaws.com (s3.amazonaws.com)... 52.216.104.85\n",
            "Connecting to s3.amazonaws.com (s3.amazonaws.com)|52.216.104.85|:443... connected.\n",
            "HTTP request sent, awaiting response... 200 OK\n",
            "Length: 2321936 (2.2M) [application/octet-stream]\n",
            "Saving to: ‘training.json’\n",
            "\n",
            "training.json       100%[===================>]   2.21M  1.99MB/s    in 1.1s    \n",
            "\n",
            "2020-02-07 09:21:21 (1.99 MB/s) - ‘training.json’ saved [2321936/2321936]\n",
            "\n"
          ],
          "name": "stdout"
        }
      ]
    },
    {
      "cell_type": "code",
      "metadata": {
        "id": "gKlAiIPDpd80",
        "colab_type": "code",
        "colab": {}
      },
      "source": [
        "import json    \n",
        "\n",
        "data = []\n",
        "with open('training.json') as f:\n",
        "    for line in f:\n",
        "        data.append(json.loads(line))"
      ],
      "execution_count": 0,
      "outputs": []
    },
    {
      "cell_type": "code",
      "metadata": {
        "id": "0rlq3FKym-Jv",
        "colab_type": "code",
        "colab": {
          "base_uri": "https://localhost:8080/",
          "height": 85
        },
        "outputId": "dc563beb-4fb2-48d4-f970-07dd58080f10"
      },
      "source": [
        "data[1:2]"
      ],
      "execution_count": 42,
      "outputs": [
        {
          "output_type": "execute_result",
          "data": {
            "text/plain": [
              "[{'category': 'cell-phones',\n",
              "  'city': 'newyork',\n",
              "  'heading': 'New batteries C-S2 for Blackberry 7100/7130/8700/Curve/Pearl',\n",
              "  'section': 'for-sale'}]"
            ]
          },
          "metadata": {
            "tags": []
          },
          "execution_count": 42
        }
      ]
    },
    {
      "cell_type": "code",
      "metadata": {
        "id": "KipKg22-p479",
        "colab_type": "code",
        "colab": {}
      },
      "source": [
        "my_data = data[1:]"
      ],
      "execution_count": 0,
      "outputs": []
    },
    {
      "cell_type": "code",
      "metadata": {
        "id": "3gsdQY0LqNhu",
        "colab_type": "code",
        "colab": {}
      },
      "source": [
        "category = []\n",
        "city = []\n",
        "heading = []\n",
        "section = []\n",
        "\n",
        "for i in my_data:\n",
        "  \n",
        "  category.append(i[\"category\"])\n",
        "  city.append(i[\"city\"])\n",
        "  heading.append(i[\"heading\"])\n",
        "  section.append(i[\"section\"])"
      ],
      "execution_count": 0,
      "outputs": []
    },
    {
      "cell_type": "code",
      "metadata": {
        "id": "lOeF4qwqqPm0",
        "colab_type": "code",
        "colab": {}
      },
      "source": [
        "import pandas as pd\n",
        "data_new = pd.DataFrame(\n",
        "    {'city': city,\n",
        "     'section': section,\n",
        "     'heading': heading,\n",
        "     'category':category\n",
        "    })"
      ],
      "execution_count": 0,
      "outputs": []
    },
    {
      "cell_type": "code",
      "metadata": {
        "id": "MKmotnHzqRGd",
        "colab_type": "code",
        "outputId": "5025a062-4a81-47fb-bf8e-1c1609ba0b67",
        "colab": {
          "base_uri": "https://localhost:8080/",
          "height": 204
        }
      },
      "source": [
        "data_new.head()"
      ],
      "execution_count": 46,
      "outputs": [
        {
          "output_type": "execute_result",
          "data": {
            "text/html": [
              "<div>\n",
              "<style scoped>\n",
              "    .dataframe tbody tr th:only-of-type {\n",
              "        vertical-align: middle;\n",
              "    }\n",
              "\n",
              "    .dataframe tbody tr th {\n",
              "        vertical-align: top;\n",
              "    }\n",
              "\n",
              "    .dataframe thead th {\n",
              "        text-align: right;\n",
              "    }\n",
              "</style>\n",
              "<table border=\"1\" class=\"dataframe\">\n",
              "  <thead>\n",
              "    <tr style=\"text-align: right;\">\n",
              "      <th></th>\n",
              "      <th>city</th>\n",
              "      <th>section</th>\n",
              "      <th>heading</th>\n",
              "      <th>category</th>\n",
              "    </tr>\n",
              "  </thead>\n",
              "  <tbody>\n",
              "    <tr>\n",
              "      <th>0</th>\n",
              "      <td>newyork</td>\n",
              "      <td>for-sale</td>\n",
              "      <td>New batteries C-S2 for Blackberry 7100/7130/8700/Curve/Pearl</td>\n",
              "      <td>cell-phones</td>\n",
              "    </tr>\n",
              "    <tr>\n",
              "      <th>1</th>\n",
              "      <td>newyork</td>\n",
              "      <td>for-sale</td>\n",
              "      <td>*******   Brand New Original SAMSUNG GALAXY NOTE 2 BATTERY ******</td>\n",
              "      <td>cell-phones</td>\n",
              "    </tr>\n",
              "    <tr>\n",
              "      <th>2</th>\n",
              "      <td>newyork</td>\n",
              "      <td>for-sale</td>\n",
              "      <td>SAMSUNG GALAXY SIII T-999 MARBLE WHITE T-MOBILE SMARTPHONE BRAND NEW</td>\n",
              "      <td>cell-phones</td>\n",
              "    </tr>\n",
              "    <tr>\n",
              "      <th>3</th>\n",
              "      <td>newyork</td>\n",
              "      <td>for-sale</td>\n",
              "      <td>Ipad mini 64gb 4g any sim unlock</td>\n",
              "      <td>cell-phones</td>\n",
              "    </tr>\n",
              "    <tr>\n",
              "      <th>4</th>\n",
              "      <td>newyork</td>\n",
              "      <td>for-sale</td>\n",
              "      <td>htc evo 4g lte for trade</td>\n",
              "      <td>cell-phones</td>\n",
              "    </tr>\n",
              "  </tbody>\n",
              "</table>\n",
              "</div>"
            ],
            "text/plain": [
              "      city  ...     category\n",
              "0  newyork  ...  cell-phones\n",
              "1  newyork  ...  cell-phones\n",
              "2  newyork  ...  cell-phones\n",
              "3  newyork  ...  cell-phones\n",
              "4  newyork  ...  cell-phones\n",
              "\n",
              "[5 rows x 4 columns]"
            ]
          },
          "metadata": {
            "tags": []
          },
          "execution_count": 46
        }
      ]
    },
    {
      "cell_type": "code",
      "metadata": {
        "id": "3MNT3IaKqSw2",
        "colab_type": "code",
        "outputId": "5b3a19f7-b1e6-47e9-ae29-1a098ac7d588",
        "colab": {
          "base_uri": "https://localhost:8080/",
          "height": 306
        }
      },
      "source": [
        "data_new[\"category\"].value_counts()"
      ],
      "execution_count": 47,
      "outputs": [
        {
          "output_type": "execute_result",
          "data": {
            "text/plain": [
              "shared                2273\n",
              "therapeutic           2203\n",
              "cell-phones           1741\n",
              "temporary             1518\n",
              "appliances            1443\n",
              "household-services    1381\n",
              "photography           1379\n",
              "wanted-housing        1378\n",
              "childcare             1255\n",
              "video-games           1249\n",
              "automotive            1136\n",
              "real-estate           1048\n",
              "general               1020\n",
              "artists               439 \n",
              "housing               397 \n",
              "activities            357 \n",
              "Name: category, dtype: int64"
            ]
          },
          "metadata": {
            "tags": []
          },
          "execution_count": 47
        }
      ]
    },
    {
      "cell_type": "code",
      "metadata": {
        "id": "UnDBPPnrqUpk",
        "colab_type": "code",
        "colab": {
          "base_uri": "https://localhost:8080/",
          "height": 671
        },
        "outputId": "440f8482-acb3-4b14-e6c9-8697d3c3602a"
      },
      "source": [
        "import seaborn as sns\n",
        "import matplotlib.pyplot as plt\n",
        "plt.figure(figsize=(10,5))\n",
        "chart = sns.countplot(\n",
        "    data_new[\"category\"])\n",
        "chart.set_xticklabels(chart.get_xticklabels(), rotation=45)"
      ],
      "execution_count": 48,
      "outputs": [
        {
          "output_type": "execute_result",
          "data": {
            "text/plain": [
              "[Text(0, 0, 'cell-phones'),\n",
              " Text(0, 0, 'appliances'),\n",
              " Text(0, 0, 'photography'),\n",
              " Text(0, 0, 'video-games'),\n",
              " Text(0, 0, 'housing'),\n",
              " Text(0, 0, 'shared'),\n",
              " Text(0, 0, 'temporary'),\n",
              " Text(0, 0, 'wanted-housing'),\n",
              " Text(0, 0, 'activities'),\n",
              " Text(0, 0, 'artists'),\n",
              " Text(0, 0, 'childcare'),\n",
              " Text(0, 0, 'general'),\n",
              " Text(0, 0, 'automotive'),\n",
              " Text(0, 0, 'household-services'),\n",
              " Text(0, 0, 'real-estate'),\n",
              " Text(0, 0, 'therapeutic')]"
            ]
          },
          "metadata": {
            "tags": []
          },
          "execution_count": 48
        },
        {
          "output_type": "display_data",
          "data": {
            "image/png": "[encoded data removed]",
            "text/plain": [
              "<Figure size 720x360 with 1 Axes>"
            ]
          },
          "metadata": {
            "tags": []
          }
        }
      ]
    },
    {
      "cell_type": "code",
      "metadata": {
        "id": "ZYPJTbGPqWlu",
        "colab_type": "code",
        "colab": {
          "base_uri": "https://localhost:8080/",
          "height": 170
        },
        "outputId": "055e47cb-22ae-452e-da1e-ccfbd1911c3d"
      },
      "source": [
        "data_new.info()"
      ],
      "execution_count": 49,
      "outputs": [
        {
          "output_type": "stream",
          "text": [
            "<class 'pandas.core.frame.DataFrame'>\n",
            "RangeIndex: 20217 entries, 0 to 20216\n",
            "Data columns (total 4 columns):\n",
            "city        20217 non-null object\n",
            "section     20217 non-null object\n",
            "heading     20217 non-null object\n",
            "category    20217 non-null object\n",
            "dtypes: object(4)\n",
            "memory usage: 631.9+ KB\n"
          ],
          "name": "stdout"
        }
      ]
    },
    {
      "cell_type": "code",
      "metadata": {
        "id": "-jJHpbT-rp2E",
        "colab_type": "code",
        "colab": {}
      },
      "source": [
        "from sklearn.preprocessing import LabelBinarizer\n",
        "from keras.utils import to_categorical"
      ],
      "execution_count": 0,
      "outputs": []
    },
    {
      "cell_type": "code",
      "metadata": {
        "id": "Hsj1ZIMCrrka",
        "colab_type": "code",
        "colab": {}
      },
      "source": [
        "targets = data_new[\"category\"].values"
      ],
      "execution_count": 0,
      "outputs": []
    },
    {
      "cell_type": "code",
      "metadata": {
        "id": "UhEjP21trs27",
        "colab_type": "code",
        "colab": {}
      },
      "source": [
        "encoder = LabelBinarizer()\n",
        "encoder.fit(targets)\n",
        "y_train = encoder.transform(targets)"
      ],
      "execution_count": 0,
      "outputs": []
    },
    {
      "cell_type": "code",
      "metadata": {
        "id": "IwLJtorxruxl",
        "colab_type": "code",
        "colab": {}
      },
      "source": [
        "from keras.models import Model\n",
        "from keras.layers import Dense, Embedding, Input\n",
        "from keras.layers import LSTM, Bidirectional, GlobalMaxPool1D, Dropout\n",
        "from keras.preprocessing.text import Tokenizer\n",
        "from keras.preprocessing.sequence import pad_sequences\n",
        "from keras.optimizers import Adam"
      ],
      "execution_count": 0,
      "outputs": []
    },
    {
      "cell_type": "code",
      "metadata": {
        "id": "vmUakUcZrwyx",
        "colab_type": "code",
        "outputId": "504c3e04-b7c8-4de0-8900-4da48530190e",
        "colab": {
          "base_uri": "https://localhost:8080/",
          "height": 357
        }
      },
      "source": [
        "!wget http://nlp.stanford.edu/data/glove.6B.zip"
      ],
      "execution_count": 54,
      "outputs": [
        {
          "output_type": "stream",
          "text": [
            "--2020-02-07 09:24:33--  http://nlp.stanford.edu/data/glove.6B.zip\n",
            "Resolving nlp.stanford.edu (nlp.stanford.edu)... 171.64.67.140\n",
            "Connecting to nlp.stanford.edu (nlp.stanford.edu)|171.64.67.140|:80... connected.\n",
            "HTTP request sent, awaiting response... 302 Found\n",
            "Location: https://nlp.stanford.edu/data/glove.6B.zip [following]\n",
            "--2020-02-07 09:24:33--  https://nlp.stanford.edu/data/glove.6B.zip\n",
            "Connecting to nlp.stanford.edu (nlp.stanford.edu)|171.64.67.140|:443... connected.\n",
            "HTTP request sent, awaiting response... 301 Moved Permanently\n",
            "Location: http://downloads.cs.stanford.edu/nlp/data/glove.6B.zip [following]\n",
            "--2020-02-07 09:24:34--  http://downloads.cs.stanford.edu/nlp/data/glove.6B.zip\n",
            "Resolving downloads.cs.stanford.edu (downloads.cs.stanford.edu)... 171.64.64.22\n",
            "Connecting to downloads.cs.stanford.edu (downloads.cs.stanford.edu)|171.64.64.22|:80... connected.\n",
            "HTTP request sent, awaiting response... 200 OK\n",
            "Length: 862182613 (822M) [application/zip]\n",
            "Saving to: ‘glove.6B.zip.1’\n",
            "\n",
            "glove.6B.zip.1      100%[===================>] 822.24M  1.95MB/s    in 6m 29s  \n",
            "\n",
            "2020-02-07 09:31:03 (2.11 MB/s) - ‘glove.6B.zip.1’ saved [862182613/862182613]\n",
            "\n"
          ],
          "name": "stdout"
        }
      ]
    },
    {
      "cell_type": "code",
      "metadata": {
        "id": "TLlicez0sADJ",
        "colab_type": "code",
        "colab": {}
      },
      "source": [
        "import zipfile\n",
        "zip_ref = zipfile.ZipFile(\"glove.6B.zip\", 'r')\n",
        "zip_ref.extractall(\"glove\")\n",
        "zip_ref.close()"
      ],
      "execution_count": 0,
      "outputs": []
    },
    {
      "cell_type": "code",
      "metadata": {
        "id": "x-yqLe-esB1f",
        "colab_type": "code",
        "outputId": "0c1eaf33-2c81-44e6-9e5d-2a5e958f682a",
        "colab": {
          "base_uri": "https://localhost:8080/",
          "height": 51
        }
      },
      "source": [
        "import numpy as np\n",
        "# some configuration\n",
        "MAX_SEQUENCE_LENGTH = 50\n",
        "MAX_VOCAB_SIZE = 20000\n",
        "EMBEDDING_DIM = 300\n",
        "VALIDATION_SPLIT = 0.2\n",
        "BATCH_SIZE = 128\n",
        "EPOCHS = 5\n",
        "\n",
        "\n",
        "\n",
        "# load in pre-trained word vectors\n",
        "print('Loading word vectors...')\n",
        "word2vec = {}\n",
        "with open(\"glove/glove.6B.300d.txt\") as f:\n",
        "  # is just a space-separated text file in the format:\n",
        "  # word vec[0] vec[1] vec[2] ...\n",
        "  for line in f:\n",
        "    values = line.split()\n",
        "    word = values[0]\n",
        "    vec = np.asarray(values[1:], dtype='float32')\n",
        "    word2vec[word] = vec\n",
        "print('Found %s word vectors.' % len(word2vec))"
      ],
      "execution_count": 56,
      "outputs": [
        {
          "output_type": "stream",
          "text": [
            "Loading word vectors...\n",
            "Found 400000 word vectors.\n"
          ],
          "name": "stdout"
        }
      ]
    },
    {
      "cell_type": "code",
      "metadata": {
        "id": "0ViP513UsDz5",
        "colab_type": "code",
        "colab": {}
      },
      "source": [
        "# convert the sentences (strings) into integers\n",
        "tokenizer = Tokenizer(num_words=MAX_VOCAB_SIZE)\n",
        "tokenizer.fit_on_texts(data_new[\"heading\"])\n",
        "sequences = tokenizer.texts_to_sequences(data_new[\"heading\"])"
      ],
      "execution_count": 0,
      "outputs": []
    },
    {
      "cell_type": "code",
      "metadata": {
        "id": "QCpBIihbthnz",
        "colab_type": "code",
        "outputId": "1a341f80-a8d2-4411-8df0-55626622fade",
        "colab": {
          "base_uri": "https://localhost:8080/",
          "height": 51
        }
      },
      "source": [
        "# get word -> integer mapping\n",
        "word2idx = tokenizer.word_index\n",
        "print('Found %s unique tokens.' % len(word2idx))\n",
        "\n",
        "\n",
        "# pad sequences so that we get a N x T matrix\n",
        "data = pad_sequences(sequences, maxlen=MAX_SEQUENCE_LENGTH)\n",
        "print('Shape of data tensor:', data.shape)"
      ],
      "execution_count": 58,
      "outputs": [
        {
          "output_type": "stream",
          "text": [
            "Found 12743 unique tokens.\n",
            "Shape of data tensor: (20217, 50)\n"
          ],
          "name": "stdout"
        }
      ]
    },
    {
      "cell_type": "code",
      "metadata": {
        "id": "O2_ICoyatjQX",
        "colab_type": "code",
        "colab": {
          "base_uri": "https://localhost:8080/",
          "height": 34
        },
        "outputId": "0f7d3fc4-ac44-4289-a19a-dd3b4dad8a14"
      },
      "source": [
        "# prepare embedding matrix\n",
        "print('Filling pre-trained embeddings...')\n",
        "num_words = min(MAX_VOCAB_SIZE, len(word2idx) + 1)\n",
        "embedding_matrix = np.zeros((num_words, EMBEDDING_DIM))\n",
        "for word, i in word2idx.items():\n",
        "  if i < MAX_VOCAB_SIZE:\n",
        "    embedding_vector = word2vec.get(word)\n",
        "    if embedding_vector is not None:\n",
        "      # words not found in embedding index will be all zeros.\n",
        "        embedding_matrix[i] = embedding_vector"
      ],
      "execution_count": 59,
      "outputs": [
        {
          "output_type": "stream",
          "text": [
            "Filling pre-trained embeddings...\n"
          ],
          "name": "stdout"
        }
      ]
    },
    {
      "cell_type": "code",
      "metadata": {
        "id": "qIeEMRGK-AlS",
        "colab_type": "code",
        "colab": {
          "base_uri": "https://localhost:8080/",
          "height": 34
        },
        "outputId": "b54ff737-6a71-4017-a09c-9e53dcbca769"
      },
      "source": [
        "# load pre-trained word embeddings into an Embedding layer\n",
        "# note that we set trainable = False so as to keep the embeddings fixed\n",
        "embedding_layer = Embedding(\n",
        "  num_words,\n",
        "  EMBEDDING_DIM,\n",
        "  weights=[embedding_matrix],\n",
        "  input_length=MAX_SEQUENCE_LENGTH,\n",
        "  trainable=False\n",
        ")\n",
        "\n",
        "\n",
        "\n",
        "print('Building model...')\n",
        "\n",
        "# create an LSTM network with a single LSTM\n",
        "input_ = Input(shape=(MAX_SEQUENCE_LENGTH,))\n",
        "x = embedding_layer(input_)\n",
        "# x = LSTM(15, return_sequences=True)(x)\n",
        "x = Bidirectional(LSTM(15, return_sequences=True))(x)\n",
        "x = GlobalMaxPool1D()(x)\n",
        "output = Dense(16, activation=\"softmax\")(x)\n",
        "\n",
        "model = Model(input_, output)\n",
        "model.compile(\n",
        "  loss='binary_crossentropy',\n",
        "  optimizer=Adam(lr=0.01),\n",
        "  metrics=['accuracy']\n",
        ")"
      ],
      "execution_count": 60,
      "outputs": [
        {
          "output_type": "stream",
          "text": [
            "Building model...\n"
          ],
          "name": "stdout"
        }
      ]
    },
    {
      "cell_type": "code",
      "metadata": {
        "id": "taj2dAd0-DFH",
        "colab_type": "code",
        "colab": {
          "base_uri": "https://localhost:8080/",
          "height": 221
        },
        "outputId": "840b1b76-75a7-458d-d30c-d0c115dd1786"
      },
      "source": [
        "print('Training model...')\n",
        "r = model.fit(\n",
        "  data,\n",
        "  y_train,\n",
        "  batch_size=BATCH_SIZE,\n",
        "  epochs=EPOCHS,\n",
        "  validation_split=VALIDATION_SPLIT\n",
        ")"
      ],
      "execution_count": 61,
      "outputs": [
        {
          "output_type": "stream",
          "text": [
            "Training model...\n",
            "Train on 16173 samples, validate on 4044 samples\n",
            "Epoch 1/5\n",
            "16173/16173 [==============================] - 21s 1ms/step - loss: 0.1257 - acc: 0.9597 - val_loss: 0.0938 - val_acc: 0.9688\n",
            "Epoch 2/5\n",
            "16173/16173 [==============================] - 19s 1ms/step - loss: 0.0886 - acc: 0.9705 - val_loss: 0.0944 - val_acc: 0.9692\n",
            "Epoch 3/5\n",
            "16173/16173 [==============================] - 20s 1ms/step - loss: 0.0785 - acc: 0.9741 - val_loss: 0.0994 - val_acc: 0.9674\n",
            "Epoch 4/5\n",
            "16173/16173 [==============================] - 19s 1ms/step - loss: 0.0723 - acc: 0.9764 - val_loss: 0.0949 - val_acc: 0.9682\n",
            "Epoch 5/5\n",
            "16173/16173 [==============================] - 18s 1ms/step - loss: 0.0673 - acc: 0.9783 - val_loss: 0.1048 - val_acc: 0.9667\n"
          ],
          "name": "stdout"
        }
      ]
    },
    {
      "cell_type": "code",
      "metadata": {
        "id": "ZqfRAzX2-Fid",
        "colab_type": "code",
        "colab": {
          "base_uri": "https://localhost:8080/",
          "height": 204
        },
        "outputId": "74315cae-d089-4bd4-b583-bf556eb65d19"
      },
      "source": [
        "!wget https://s3.amazonaws.com/hr-testcases/859/sample-test.in.json"
      ],
      "execution_count": 62,
      "outputs": [
        {
          "output_type": "stream",
          "text": [
            "--2020-02-07 09:33:53--  https://s3.amazonaws.com/hr-testcases/859/sample-test.in.json\n",
            "Resolving s3.amazonaws.com (s3.amazonaws.com)... 52.216.107.126\n",
            "Connecting to s3.amazonaws.com (s3.amazonaws.com)|52.216.107.126|:443... connected.\n",
            "HTTP request sent, awaiting response... 200 OK\n",
            "Length: 1385338 (1.3M) [application/octet-stream]\n",
            "Saving to: ‘sample-test.in.json’\n",
            "\n",
            "sample-test.in.json 100%[===================>]   1.32M  1.20MB/s    in 1.1s    \n",
            "\n",
            "2020-02-07 09:33:55 (1.20 MB/s) - ‘sample-test.in.json’ saved [1385338/1385338]\n",
            "\n"
          ],
          "name": "stdout"
        }
      ]
    },
    {
      "cell_type": "code",
      "metadata": {
        "id": "UfdSuoUy-JJP",
        "colab_type": "code",
        "colab": {}
      },
      "source": [
        "data_input = []\n",
        "with open('sample-test.in.json') as f:\n",
        "    for line in f:\n",
        "        data_input.append(json.loads(line))"
      ],
      "execution_count": 0,
      "outputs": []
    },
    {
      "cell_type": "code",
      "metadata": {
        "id": "rdE7hlnU-K9A",
        "colab_type": "code",
        "colab": {}
      },
      "source": [
        "test_data = data_input[1:]"
      ],
      "execution_count": 0,
      "outputs": []
    },
    {
      "cell_type": "code",
      "metadata": {
        "id": "VOkJJS8N-Omk",
        "colab_type": "code",
        "colab": {}
      },
      "source": [
        "city = []\n",
        "heading = []\n",
        "section = []\n",
        "\n",
        "for i in test_data:\n",
        "  \n",
        "  city.append(i[\"city\"])\n",
        "  heading.append(i[\"heading\"])\n",
        "  section.append(i[\"section\"])"
      ],
      "execution_count": 0,
      "outputs": []
    },
    {
      "cell_type": "code",
      "metadata": {
        "id": "DXmgtCjl-RQQ",
        "colab_type": "code",
        "colab": {}
      },
      "source": [
        "\n",
        "test = pd.DataFrame(\n",
        "    {'city': city,\n",
        "     'section': section,\n",
        "     'heading': heading,\n",
        "     })"
      ],
      "execution_count": 0,
      "outputs": []
    },
    {
      "cell_type": "code",
      "metadata": {
        "id": "R8ihCZrL-TNW",
        "colab_type": "code",
        "colab": {
          "base_uri": "https://localhost:8080/",
          "height": 204
        },
        "outputId": "5bb4506c-6456-47cc-c6fa-e5ffb7d5e9a8"
      },
      "source": [
        "test.head()"
      ],
      "execution_count": 67,
      "outputs": [
        {
          "output_type": "execute_result",
          "data": {
            "text/html": [
              "<div>\n",
              "<style scoped>\n",
              "    .dataframe tbody tr th:only-of-type {\n",
              "        vertical-align: middle;\n",
              "    }\n",
              "\n",
              "    .dataframe tbody tr th {\n",
              "        vertical-align: top;\n",
              "    }\n",
              "\n",
              "    .dataframe thead th {\n",
              "        text-align: right;\n",
              "    }\n",
              "</style>\n",
              "<table border=\"1\" class=\"dataframe\">\n",
              "  <thead>\n",
              "    <tr style=\"text-align: right;\">\n",
              "      <th></th>\n",
              "      <th>city</th>\n",
              "      <th>section</th>\n",
              "      <th>heading</th>\n",
              "    </tr>\n",
              "  </thead>\n",
              "  <tbody>\n",
              "    <tr>\n",
              "      <th>0</th>\n",
              "      <td>chicago</td>\n",
              "      <td>for-sale</td>\n",
              "      <td>Madden NFL 25 XBOX 360. Brand New!</td>\n",
              "    </tr>\n",
              "    <tr>\n",
              "      <th>1</th>\n",
              "      <td>paris.en</td>\n",
              "      <td>housing</td>\n",
              "      <td>looking for room to rent.</td>\n",
              "    </tr>\n",
              "    <tr>\n",
              "      <th>2</th>\n",
              "      <td>newyork</td>\n",
              "      <td>for-sale</td>\n",
              "      <td>two DS game</td>\n",
              "    </tr>\n",
              "    <tr>\n",
              "      <th>3</th>\n",
              "      <td>seattle</td>\n",
              "      <td>housing</td>\n",
              "      <td>map</td>\n",
              "    </tr>\n",
              "    <tr>\n",
              "      <th>4</th>\n",
              "      <td>singapore</td>\n",
              "      <td>services</td>\n",
              "      <td>Good Looking Asian Sensation N aughty Girl ---- Independent</td>\n",
              "    </tr>\n",
              "  </tbody>\n",
              "</table>\n",
              "</div>"
            ],
            "text/plain": [
              "        city  ...                                                      heading\n",
              "0  chicago    ...  Madden NFL 25 XBOX 360. Brand New!                         \n",
              "1  paris.en   ...   looking for room to rent.                                 \n",
              "2  newyork    ...  two DS game                                                \n",
              "3  seattle    ...  map                                                        \n",
              "4  singapore  ...  Good Looking Asian Sensation N aughty Girl ---- Independent\n",
              "\n",
              "[5 rows x 3 columns]"
            ]
          },
          "metadata": {
            "tags": []
          },
          "execution_count": 67
        }
      ]
    },
    {
      "cell_type": "code",
      "metadata": {
        "id": "Pgb1kgK--VRN",
        "colab_type": "code",
        "colab": {
          "base_uri": "https://localhost:8080/",
          "height": 34
        },
        "outputId": "c45f982f-c538-47f7-a712-c77abee9bab3"
      },
      "source": [
        "test.shape"
      ],
      "execution_count": 68,
      "outputs": [
        {
          "output_type": "execute_result",
          "data": {
            "text/plain": [
              "(15370, 3)"
            ]
          },
          "metadata": {
            "tags": []
          },
          "execution_count": 68
        }
      ]
    },
    {
      "cell_type": "code",
      "metadata": {
        "id": "B-sWzC0a-Xoc",
        "colab_type": "code",
        "colab": {}
      },
      "source": [
        "test_sequences = tokenizer.texts_to_sequences(test[\"heading\"])"
      ],
      "execution_count": 0,
      "outputs": []
    },
    {
      "cell_type": "code",
      "metadata": {
        "id": "49LGKWC8-ZnB",
        "colab_type": "code",
        "colab": {}
      },
      "source": [
        "test_pad = pad_sequences(test_sequences, maxlen=MAX_SEQUENCE_LENGTH, padding='post')"
      ],
      "execution_count": 0,
      "outputs": []
    },
    {
      "cell_type": "code",
      "metadata": {
        "id": "_zou4u25-bhg",
        "colab_type": "code",
        "colab": {}
      },
      "source": [
        "text_labels = encoder.classes_"
      ],
      "execution_count": 0,
      "outputs": []
    },
    {
      "cell_type": "code",
      "metadata": {
        "id": "hbfvFbqY-dO0",
        "colab_type": "code",
        "colab": {
          "base_uri": "https://localhost:8080/",
          "height": 85
        },
        "outputId": "585aeac8-c737-4ad9-f14b-31c69384b0bc"
      },
      "source": [
        "text_labels"
      ],
      "execution_count": 72,
      "outputs": [
        {
          "output_type": "execute_result",
          "data": {
            "text/plain": [
              "array(['activities', 'appliances', 'artists', 'automotive', 'cell-phones',\n",
              "       'childcare', 'general', 'household-services', 'housing',\n",
              "       'photography', 'real-estate', 'shared', 'temporary', 'therapeutic',\n",
              "       'video-games', 'wanted-housing'], dtype='<U18')"
            ]
          },
          "metadata": {
            "tags": []
          },
          "execution_count": 72
        }
      ]
    },
    {
      "cell_type": "code",
      "metadata": {
        "id": "ZkdheVZ3-e2g",
        "colab_type": "code",
        "colab": {}
      },
      "source": [
        "category_predicted = []\n",
        "for i in range(test.shape[0]):\n",
        "    prediction = model.predict(np.array([test_pad[i]]))\n",
        "    predicted_label = text_labels[np.argmax(prediction[0])]\n",
        "    category_predicted.append(predicted_label)"
      ],
      "execution_count": 0,
      "outputs": []
    },
    {
      "cell_type": "code",
      "metadata": {
        "id": "kWuX6KKu-hAz",
        "colab_type": "code",
        "colab": {}
      },
      "source": [
        "test[\"category\"] = category_predicted"
      ],
      "execution_count": 0,
      "outputs": []
    },
    {
      "cell_type": "code",
      "metadata": {
        "id": "G-nhLMlK-ioG",
        "colab_type": "code",
        "colab": {
          "base_uri": "https://localhost:8080/",
          "height": 419
        },
        "outputId": "1dd79c25-1699-432d-f7a5-c6bed09c2951"
      },
      "source": [
        "test"
      ],
      "execution_count": 75,
      "outputs": [
        {
          "output_type": "execute_result",
          "data": {
            "text/html": [
              "<div>\n",
              "<style scoped>\n",
              "    .dataframe tbody tr th:only-of-type {\n",
              "        vertical-align: middle;\n",
              "    }\n",
              "\n",
              "    .dataframe tbody tr th {\n",
              "        vertical-align: top;\n",
              "    }\n",
              "\n",
              "    .dataframe thead th {\n",
              "        text-align: right;\n",
              "    }\n",
              "</style>\n",
              "<table border=\"1\" class=\"dataframe\">\n",
              "  <thead>\n",
              "    <tr style=\"text-align: right;\">\n",
              "      <th></th>\n",
              "      <th>city</th>\n",
              "      <th>section</th>\n",
              "      <th>heading</th>\n",
              "      <th>category</th>\n",
              "    </tr>\n",
              "  </thead>\n",
              "  <tbody>\n",
              "    <tr>\n",
              "      <th>0</th>\n",
              "      <td>chicago</td>\n",
              "      <td>for-sale</td>\n",
              "      <td>Madden NFL 25 XBOX 360. Brand New!</td>\n",
              "      <td>video-games</td>\n",
              "    </tr>\n",
              "    <tr>\n",
              "      <th>1</th>\n",
              "      <td>paris.en</td>\n",
              "      <td>housing</td>\n",
              "      <td>looking for room to rent.</td>\n",
              "      <td>wanted-housing</td>\n",
              "    </tr>\n",
              "    <tr>\n",
              "      <th>2</th>\n",
              "      <td>newyork</td>\n",
              "      <td>for-sale</td>\n",
              "      <td>two DS game</td>\n",
              "      <td>video-games</td>\n",
              "    </tr>\n",
              "    <tr>\n",
              "      <th>3</th>\n",
              "      <td>seattle</td>\n",
              "      <td>housing</td>\n",
              "      <td>map</td>\n",
              "      <td>automotive</td>\n",
              "    </tr>\n",
              "    <tr>\n",
              "      <th>4</th>\n",
              "      <td>singapore</td>\n",
              "      <td>services</td>\n",
              "      <td>Good Looking Asian Sensation N aughty Girl ---- Independent</td>\n",
              "      <td>therapeutic</td>\n",
              "    </tr>\n",
              "    <tr>\n",
              "      <th>...</th>\n",
              "      <td>...</td>\n",
              "      <td>...</td>\n",
              "      <td>...</td>\n",
              "      <td>...</td>\n",
              "    </tr>\n",
              "    <tr>\n",
              "      <th>15365</th>\n",
              "      <td>newyork</td>\n",
              "      <td>services</td>\n",
              "      <td>NISSAN UD , ISUZU NPR , FUSO , HINO TRUCK &amp;amp; AUTO PARTS</td>\n",
              "      <td>automotive</td>\n",
              "    </tr>\n",
              "    <tr>\n",
              "      <th>15366</th>\n",
              "      <td>seattle</td>\n",
              "      <td>for-sale</td>\n",
              "      <td>map</td>\n",
              "      <td>automotive</td>\n",
              "    </tr>\n",
              "    <tr>\n",
              "      <th>15367</th>\n",
              "      <td>seattle</td>\n",
              "      <td>services</td>\n",
              "      <td>Old School Upholstery &amp;amp; Repair</td>\n",
              "      <td>automotive</td>\n",
              "    </tr>\n",
              "    <tr>\n",
              "      <th>15368</th>\n",
              "      <td>newyork</td>\n",
              "      <td>for-sale</td>\n",
              "      <td>LG Super Capacity 31CuFt French Door Refrigerator Stainless w Warranty</td>\n",
              "      <td>appliances</td>\n",
              "    </tr>\n",
              "    <tr>\n",
              "      <th>15369</th>\n",
              "      <td>seattle</td>\n",
              "      <td>for-sale</td>\n",
              "      <td>Wii UDraw Pictionary w/ UDraw Board</td>\n",
              "      <td>video-games</td>\n",
              "    </tr>\n",
              "  </tbody>\n",
              "</table>\n",
              "<p>15370 rows × 4 columns</p>\n",
              "</div>"
            ],
            "text/plain": [
              "            city  ...        category\n",
              "0      chicago    ...  video-games   \n",
              "1      paris.en   ...  wanted-housing\n",
              "2      newyork    ...  video-games   \n",
              "3      seattle    ...  automotive    \n",
              "4      singapore  ...  therapeutic   \n",
              "...          ...  ...          ...   \n",
              "15365  newyork    ...  automotive    \n",
              "15366  seattle    ...  automotive    \n",
              "15367  seattle    ...  automotive    \n",
              "15368  newyork    ...  appliances    \n",
              "15369  seattle    ...  video-games   \n",
              "\n",
              "[15370 rows x 4 columns]"
            ]
          },
          "metadata": {
            "tags": []
          },
          "execution_count": 75
        }
      ]
    },
    {
      "cell_type": "code",
      "metadata": {
        "id": "muR_6_02-kEZ",
        "colab_type": "code",
        "colab": {}
      },
      "source": [
        "test.to_json(\"my_results.json\")"
      ],
      "execution_count": 0,
      "outputs": []
    }
  ]
}