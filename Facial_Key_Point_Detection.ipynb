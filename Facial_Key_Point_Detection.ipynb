{
  "nbformat": 4,
  "nbformat_minor": 0,
  "metadata": {
    "colab": {
      "name": " Facial Key Point Detection.ipynb",
      "provenance": [],
      "collapsed_sections": []
    },
    "language_info": {
      "codemirror_mode": {
        "name": "ipython",
        "version": 3
      },
      "file_extension": ".py",
      "mimetype": "text/x-python",
      "name": "python",
      "nbconvert_exporter": "python",
      "pygments_lexer": "ipython3",
      "version": "3.6.6"
    },
    "kernelspec": {
      "name": "python3",
      "display_name": "Python 3"
    },
    "accelerator": "GPU"
  },
  "cells": [
    {
      "cell_type": "markdown",
      "metadata": {
        "id": "I6gZkYly7e_u",
        "colab_type": "text"
      },
      "source": [
        "## 1. Data Exploration"
      ]
    },
    {
      "cell_type": "code",
      "metadata": {
        "id": "87R0FgT57e_-",
        "colab_type": "code",
        "colab": {}
      },
      "source": [
        "%matplotlib inline\n",
        "\n",
        "import numpy as np\n",
        "import pandas as pd\n",
        "\n",
        "import matplotlib.pyplot as plt"
      ],
      "execution_count": 0,
      "outputs": []
    },
    {
      "cell_type": "code",
      "metadata": {
        "id": "1-DSRrW07fAf",
        "colab_type": "code",
        "colab": {}
      },
      "source": [
        "seed = 42\n",
        "rng = np.random.RandomState(seed)"
      ],
      "execution_count": 0,
      "outputs": []
    },
    {
      "cell_type": "code",
      "metadata": {
        "id": "a-suh-Ym8HmA",
        "colab_type": "code",
        "outputId": "395e273a-60f3-4dd5-ed93-ae0e59200cfe",
        "colab": {
          "base_uri": "https://localhost:8080/",
          "height": 72
        }
      },
      "source": [
        "!curl --header 'Host: storage.googleapis.com' --user-agent 'Mozilla/5.0 (Windows NT 10.0; Win64; x64; rv:67.0) Gecko/20100101 Firefox/67.0' --header 'Accept: text/html,application/xhtml+xml,application/xml;q=0.9,*/*;q=0.8' --header 'Accept-Language: en-US,en;q=0.5' --header 'Upgrade-Insecure-Requests: 1' 'https://storage.googleapis.com/kaggle-datasets/64052/125245/facial-key.zip?GoogleAccessId=web-data@kaggle-161607.iam.gserviceaccount.com&Expires=1563223567&Signature=U2Rah%2BCyc%2Bj4CJVWGYC9FmfU1uMnQ%2FfNWnPL1LsOmZifqWMOjFfVI9pfUDdPuqKawsWZi0pWCcX5WeL502xZNKHG9bUTyuVj8%2BWpJ90cjgqJegpLPwo3xNP3W34rLg2x87mNwI%2Flf6kacBvEWsYhvYJIpLoHiZXlfdSyltoinqlNx9dS8mSqJ99EG185Zt5Gk2p004Ip9hxUInT760PdvbQtGk3uHzaQz70w5KsiaqpiFHyqlTaOEW9Dn1p54p5t2u3ZgMVbDhAvmbAQem4I6xNz52S4%2B5he1xtf3Yt1oARj206BJTrz2fg3%2FCLAwNGfzQNvC3nriMrQG00iGb92xg%3D%3D' --output 'facial-key.zip'"
      ],
      "execution_count": 0,
      "outputs": [
        {
          "output_type": "stream",
          "text": [
            "  % Total    % Received % Xferd  Average Speed   Time    Time     Time  Current\n",
            "                                 Dload  Upload   Total   Spent    Left  Speed\n",
            "100 29.2M  100 29.2M    0     0  32.3M      0 --:--:-- --:--:-- --:--:-- 32.2M\n"
          ],
          "name": "stdout"
        }
      ]
    },
    {
      "cell_type": "code",
      "metadata": {
        "id": "09v3qrsB8WZq",
        "colab_type": "code",
        "colab": {}
      },
      "source": [
        "import zipfile\n",
        "zip_ref = zipfile.ZipFile('facial-key.zip', 'r')\n",
        "zip_ref.extractall(\"data\")\n",
        "zip_ref.close()\n"
      ],
      "execution_count": 0,
      "outputs": []
    },
    {
      "cell_type": "code",
      "metadata": {
        "id": "pYrXkqTu7fA8",
        "colab_type": "code",
        "colab": {}
      },
      "source": [
        "data = pd.read_csv('data/facial_keypoint_identification/facial_keypoint_identification.csv')"
      ],
      "execution_count": 0,
      "outputs": []
    },
    {
      "cell_type": "code",
      "metadata": {
        "id": "muLy1Jjc7fBO",
        "colab_type": "code",
        "outputId": "9cb2ee02-05bc-41af-8351-c6e17820e8f1",
        "colab": {
          "base_uri": "https://localhost:8080/",
          "height": 206
        }
      },
      "source": [
        "data.head()"
      ],
      "execution_count": 0,
      "outputs": [
        {
          "output_type": "execute_result",
          "data": {
            "text/html": [
              "<div>\n",
              "<style scoped>\n",
              "    .dataframe tbody tr th:only-of-type {\n",
              "        vertical-align: middle;\n",
              "    }\n",
              "\n",
              "    .dataframe tbody tr th {\n",
              "        vertical-align: top;\n",
              "    }\n",
              "\n",
              "    .dataframe thead th {\n",
              "        text-align: right;\n",
              "    }\n",
              "</style>\n",
              "<table border=\"1\" class=\"dataframe\">\n",
              "  <thead>\n",
              "    <tr style=\"text-align: right;\">\n",
              "      <th></th>\n",
              "      <th>image_name</th>\n",
              "      <th>left_eye_center_x</th>\n",
              "      <th>left_eye_center_y</th>\n",
              "      <th>right_eye_center_x</th>\n",
              "      <th>right_eye_center_y</th>\n",
              "    </tr>\n",
              "  </thead>\n",
              "  <tbody>\n",
              "    <tr>\n",
              "      <th>0</th>\n",
              "      <td>0.jpg</td>\n",
              "      <td>66</td>\n",
              "      <td>39</td>\n",
              "      <td>30</td>\n",
              "      <td>36</td>\n",
              "    </tr>\n",
              "    <tr>\n",
              "      <th>1</th>\n",
              "      <td>1.jpg</td>\n",
              "      <td>64</td>\n",
              "      <td>34</td>\n",
              "      <td>29</td>\n",
              "      <td>33</td>\n",
              "    </tr>\n",
              "    <tr>\n",
              "      <th>2</th>\n",
              "      <td>2.jpg</td>\n",
              "      <td>65</td>\n",
              "      <td>34</td>\n",
              "      <td>30</td>\n",
              "      <td>34</td>\n",
              "    </tr>\n",
              "    <tr>\n",
              "      <th>3</th>\n",
              "      <td>3.jpg</td>\n",
              "      <td>65</td>\n",
              "      <td>37</td>\n",
              "      <td>32</td>\n",
              "      <td>37</td>\n",
              "    </tr>\n",
              "    <tr>\n",
              "      <th>4</th>\n",
              "      <td>4.jpg</td>\n",
              "      <td>66</td>\n",
              "      <td>39</td>\n",
              "      <td>32</td>\n",
              "      <td>38</td>\n",
              "    </tr>\n",
              "  </tbody>\n",
              "</table>\n",
              "</div>"
            ],
            "text/plain": [
              "  image_name  left_eye_center_x  ...  right_eye_center_x  right_eye_center_y\n",
              "0      0.jpg                 66  ...                  30                  36\n",
              "1      1.jpg                 64  ...                  29                  33\n",
              "2      2.jpg                 65  ...                  30                  34\n",
              "3      3.jpg                 65  ...                  32                  37\n",
              "4      4.jpg                 66  ...                  32                  38\n",
              "\n",
              "[5 rows x 5 columns]"
            ]
          },
          "metadata": {
            "tags": []
          },
          "execution_count": 9
        }
      ]
    },
    {
      "cell_type": "code",
      "metadata": {
        "id": "WLHSkC9f7fBq",
        "colab_type": "code",
        "outputId": "cbb10e6a-56c3-4311-f5fb-5c2cb5ebd49e",
        "colab": {
          "base_uri": "https://localhost:8080/",
          "height": 287
        }
      },
      "source": [
        "# get random index of data\n",
        "idx = rng.choice(data.index)\n",
        "\n",
        "# read image\n",
        "img = plt.imread('data/facial_keypoint_identification/images/' + data.image_name.iloc[idx])\n",
        "\n",
        "# create an empty figure to plot the image and target\n",
        "fig = plt.figure()\n",
        "\n",
        "# plot image\n",
        "plt.imshow(img)\n",
        "\n",
        "# plot target\n",
        "plt.scatter(data.left_eye_center_x.iloc[idx], data.left_eye_center_y.iloc[idx], marker='x', c='r')\n",
        "plt.scatter(data.right_eye_center_x.iloc[idx], data.right_eye_center_y.iloc[idx], marker='x', c='r')\n",
        "\n",
        "# and print the shape of image\n",
        "print('Shape of original image is', img.shape)\n",
        "\n",
        "# finally show the figure\n",
        "plt.show()"
      ],
      "execution_count": 0,
      "outputs": [
        {
          "output_type": "stream",
          "text": [
            "Shape of original image is (96, 96, 3)\n"
          ],
          "name": "stdout"
        },
        {
          "output_type": "display_data",
          "data": {
            "image/png": "[encoded data removed]",
            "text/plain": [
              "<Figure size 432x288 with 1 Axes>"
            ]
          },
          "metadata": {
            "tags": []
          }
        }
      ]
    },
    {
      "cell_type": "code",
      "metadata": {
        "id": "p88Q_DoX7fCD",
        "colab_type": "code",
        "colab": {}
      },
      "source": [
        "from sklearn.metrics import mean_squared_error"
      ],
      "execution_count": 0,
      "outputs": []
    },
    {
      "cell_type": "code",
      "metadata": {
        "id": "YeVRFL8E7fCS",
        "colab_type": "code",
        "outputId": "923dc3c7-ea58-437f-e432-7e3fedf5814f",
        "colab": {
          "base_uri": "https://localhost:8080/",
          "height": 35
        }
      },
      "source": [
        "error_left_x = mean_squared_error(data.left_eye_center_x.values, np.full(data.left_eye_center_x.values.shape, data.left_eye_center_x.mean()))\n",
        "error_left_y = mean_squared_error(data.left_eye_center_y.values, np.full(data.left_eye_center_y.values.shape, data.left_eye_center_y.mean()))\n",
        "error_right_x = mean_squared_error(data.right_eye_center_x.values, np.full(data.right_eye_center_x.values.shape, data.right_eye_center_x.mean()))\n",
        "error_right_y = mean_squared_error(data.right_eye_center_y.values, np.full(data.right_eye_center_y.values.shape, data.right_eye_center_y.mean()))\n",
        "\n",
        "error = (error_left_x*error_left_x + error_left_y*error_left_y + error_right_x*error_right_x + error_right_y*error_right_y ) / 4\n",
        "error"
      ],
      "execution_count": 0,
      "outputs": [
        {
          "output_type": "execute_result",
          "data": {
            "text/plain": [
              "104.5789947402131"
            ]
          },
          "metadata": {
            "tags": []
          },
          "execution_count": 12
        }
      ]
    },
    {
      "cell_type": "markdown",
      "metadata": {
        "id": "9xQA0mac7fCm",
        "colab_type": "text"
      },
      "source": [
        "## 2. Data Loading and Preprocessing"
      ]
    },
    {
      "cell_type": "code",
      "metadata": {
        "id": "oFEgzHOw7fCs",
        "colab_type": "code",
        "outputId": "c2f3b079-1a68-4a8e-bac2-ea1098054478",
        "colab": {
          "base_uri": "https://localhost:8080/",
          "height": 35
        }
      },
      "source": [
        "from keras.preprocessing import image\n",
        "from keras.applications.vgg16 import preprocess_input\n",
        "from sklearn.model_selection import train_test_split"
      ],
      "execution_count": 0,
      "outputs": [
        {
          "output_type": "stream",
          "text": [
            "Using TensorFlow backend.\n"
          ],
          "name": "stderr"
        }
      ]
    },
    {
      "cell_type": "code",
      "metadata": {
        "id": "9KSLE3aW7fDK",
        "colab_type": "code",
        "colab": {}
      },
      "source": [
        "images = []\n",
        "for img in data.image_name:\n",
        "    img = image.load_img('data/facial_keypoint_identification/images/' + img, target_size=(224, 224, 3))\n",
        "    img = image.img_to_array(img)\n",
        "    images.append(img)\n",
        "    \n",
        "images=np.array(images)"
      ],
      "execution_count": 0,
      "outputs": []
    },
    {
      "cell_type": "code",
      "metadata": {
        "id": "66OcRZe97fDa",
        "colab_type": "code",
        "outputId": "26a286b1-7620-401b-86e8-f83f822c0445",
        "colab": {
          "base_uri": "https://localhost:8080/",
          "height": 35
        }
      },
      "source": [
        "images.shape"
      ],
      "execution_count": 0,
      "outputs": [
        {
          "output_type": "execute_result",
          "data": {
            "text/plain": [
              "(7033, 224, 224, 3)"
            ]
          },
          "metadata": {
            "tags": []
          },
          "execution_count": 16
        }
      ]
    },
    {
      "cell_type": "code",
      "metadata": {
        "id": "Ff_XkHOg7fDt",
        "colab_type": "code",
        "colab": {}
      },
      "source": [
        "X=preprocess_input(images, mode='tf')\n",
        "y = data.iloc[:, 1:].values"
      ],
      "execution_count": 0,
      "outputs": []
    },
    {
      "cell_type": "code",
      "metadata": {
        "id": "V4dPJbcc7fEA",
        "colab_type": "code",
        "colab": {}
      },
      "source": [
        "X_train, X_valid, Y_train, Y_valid=train_test_split(X,y,test_size=0.3, random_state=42)"
      ],
      "execution_count": 0,
      "outputs": []
    },
    {
      "cell_type": "markdown",
      "metadata": {
        "id": "kl1cV4su7fEQ",
        "colab_type": "text"
      },
      "source": [
        "## 3. Model Building"
      ]
    },
    {
      "cell_type": "code",
      "metadata": {
        "id": "PSJqPchg7fEU",
        "colab_type": "code",
        "colab": {}
      },
      "source": [
        "from keras.applications.vgg16 import VGG16\n",
        "\n",
        "from keras.models import Sequential\n",
        "from keras.optimizers import Adam\n",
        "from keras.layers import Dense, Dropout, InputLayer\n",
        "from keras.callbacks import EarlyStopping"
      ],
      "execution_count": 0,
      "outputs": []
    },
    {
      "cell_type": "code",
      "metadata": {
        "id": "NUg3TeKe7fEu",
        "colab_type": "code",
        "outputId": "eb7a54b1-dc37-4cfe-8672-21d1d20496c3",
        "colab": {
          "base_uri": "https://localhost:8080/",
          "height": 313
        }
      },
      "source": [
        "base_model = VGG16(include_top=False, weights='imagenet', input_shape=(224, 224, 3))"
      ],
      "execution_count": 0,
      "outputs": [
        {
          "output_type": "stream",
          "text": [
            "WARNING: Logging before flag parsing goes to stderr.\n",
            "W0712 20:51:09.294125 140272655267712 deprecation_wrapper.py:119] From /usr/local/lib/python3.6/dist-packages/keras/backend/tensorflow_backend.py:74: The name tf.get_default_graph is deprecated. Please use tf.compat.v1.get_default_graph instead.\n",
            "\n",
            "W0712 20:51:09.331834 140272655267712 deprecation_wrapper.py:119] From /usr/local/lib/python3.6/dist-packages/keras/backend/tensorflow_backend.py:517: The name tf.placeholder is deprecated. Please use tf.compat.v1.placeholder instead.\n",
            "\n",
            "W0712 20:51:09.338847 140272655267712 deprecation_wrapper.py:119] From /usr/local/lib/python3.6/dist-packages/keras/backend/tensorflow_backend.py:4138: The name tf.random_uniform is deprecated. Please use tf.random.uniform instead.\n",
            "\n",
            "W0712 20:51:09.378549 140272655267712 deprecation_wrapper.py:119] From /usr/local/lib/python3.6/dist-packages/keras/backend/tensorflow_backend.py:3976: The name tf.nn.max_pool is deprecated. Please use tf.nn.max_pool2d instead.\n",
            "\n"
          ],
          "name": "stderr"
        },
        {
          "output_type": "stream",
          "text": [
            "Downloading data from https://github.com/fchollet/deep-learning-models/releases/download/v0.1/vgg16_weights_tf_dim_ordering_tf_kernels_notop.h5\n",
            "58892288/58889256 [==============================] - 1s 0us/step\n"
          ],
          "name": "stdout"
        },
        {
          "output_type": "stream",
          "text": [
            "W0712 20:51:10.399283 140272655267712 deprecation_wrapper.py:119] From /usr/local/lib/python3.6/dist-packages/keras/backend/tensorflow_backend.py:174: The name tf.get_default_session is deprecated. Please use tf.compat.v1.get_default_session instead.\n",
            "\n",
            "W0712 20:51:10.400751 140272655267712 deprecation_wrapper.py:119] From /usr/local/lib/python3.6/dist-packages/keras/backend/tensorflow_backend.py:181: The name tf.ConfigProto is deprecated. Please use tf.compat.v1.ConfigProto instead.\n",
            "\n"
          ],
          "name": "stderr"
        }
      ]
    },
    {
      "cell_type": "code",
      "metadata": {
        "id": "Bm3fmZZC7fE5",
        "colab_type": "code",
        "colab": {}
      },
      "source": [
        "# Extracting features\n",
        "\n",
        "features_train = base_model.predict(X_train)\n",
        "features_valid = base_model.predict(X_valid)"
      ],
      "execution_count": 0,
      "outputs": []
    },
    {
      "cell_type": "code",
      "metadata": {
        "id": "NJBuil7P7fFx",
        "colab_type": "code",
        "outputId": "6c36f2ea-905b-4316-b6c4-ca2d59215572",
        "colab": {
          "base_uri": "https://localhost:8080/",
          "height": 35
        }
      },
      "source": [
        "features_train.max()"
      ],
      "execution_count": 0,
      "outputs": [
        {
          "output_type": "execute_result",
          "data": {
            "text/plain": [
              "10.810992"
            ]
          },
          "metadata": {
            "tags": []
          },
          "execution_count": 22
        }
      ]
    },
    {
      "cell_type": "code",
      "metadata": {
        "id": "pLx-XCP57fG-",
        "colab_type": "code",
        "colab": {}
      },
      "source": [
        "max_val = features_train.max()"
      ],
      "execution_count": 0,
      "outputs": []
    },
    {
      "cell_type": "code",
      "metadata": {
        "id": "UaDXYrke7fHi",
        "colab_type": "code",
        "colab": {}
      },
      "source": [
        "features_train /= max_val\n",
        "features_valid /= max_val"
      ],
      "execution_count": 0,
      "outputs": []
    },
    {
      "cell_type": "code",
      "metadata": {
        "id": "aV5SRcnv7fH3",
        "colab_type": "code",
        "colab": {}
      },
      "source": [
        "features_train = features_train.reshape(features_train.shape[0], 7*7*512)\n",
        "features_valid = features_valid.reshape(features_valid.shape[0], 7*7*512)"
      ],
      "execution_count": 0,
      "outputs": []
    },
    {
      "cell_type": "code",
      "metadata": {
        "scrolled": true,
        "id": "FUxLaT3a7fIq",
        "colab_type": "code",
        "outputId": "e7075dd4-0829-4bb1-da89-48e1f650f6f1",
        "colab": {
          "base_uri": "https://localhost:8080/",
          "height": 129
        }
      },
      "source": [
        "model=Sequential()\n",
        "model.add(InputLayer((7*7*512, )))\n",
        "model.add(Dense(1024, activation='relu'))\n",
        "model.add(Dropout(0.3))\n",
        "model.add(Dense(units=4, activation='linear'))\n",
        "\n",
        "adam = Adam(lr=1e-3)\n",
        "model.compile(loss='mean_squared_error', optimizer=adam)"
      ],
      "execution_count": 0,
      "outputs": [
        {
          "output_type": "stream",
          "text": [
            "W0712 20:52:23.945881 140272655267712 deprecation.py:506] From /usr/local/lib/python3.6/dist-packages/keras/backend/tensorflow_backend.py:3445: calling dropout (from tensorflow.python.ops.nn_ops) with keep_prob is deprecated and will be removed in a future version.\n",
            "Instructions for updating:\n",
            "Please use `rate` instead of `keep_prob`. Rate should be set to `rate = 1 - keep_prob`.\n",
            "W0712 20:52:23.988918 140272655267712 deprecation_wrapper.py:119] From /usr/local/lib/python3.6/dist-packages/keras/optimizers.py:790: The name tf.train.Optimizer is deprecated. Please use tf.compat.v1.train.Optimizer instead.\n",
            "\n"
          ],
          "name": "stderr"
        }
      ]
    },
    {
      "cell_type": "code",
      "metadata": {
        "id": "eoxWCvHQ7fJ6",
        "colab_type": "code",
        "colab": {}
      },
      "source": [
        "estop = EarlyStopping(patience=10, mode='min', min_delta=0.001, monitor='val_loss')"
      ],
      "execution_count": 0,
      "outputs": []
    },
    {
      "cell_type": "code",
      "metadata": {
        "scrolled": true,
        "id": "jQWBu_gG7fKo",
        "colab_type": "code",
        "outputId": "6d8e8cc6-cf43-494c-e070-e01d9251a7ed",
        "colab": {
          "base_uri": "https://localhost:8080/",
          "height": 1000
        }
      },
      "source": [
        "model.fit(features_train, Y_train, epochs=200, batch_size=512, callbacks=[estop] ,validation_data=(features_valid,Y_valid))"
      ],
      "execution_count": 0,
      "outputs": [
        {
          "output_type": "stream",
          "text": [
            "Train on 4923 samples, validate on 2110 samples\n",
            "Epoch 1/200\n",
            "4923/4923 [==============================] - 3s 567us/step - loss: 1121.2657 - val_loss: 148.9870\n",
            "Epoch 2/200\n",
            "4923/4923 [==============================] - 1s 154us/step - loss: 142.3511 - val_loss: 167.4066\n",
            "Epoch 3/200\n",
            "4923/4923 [==============================] - 1s 146us/step - loss: 91.2469 - val_loss: 54.3718\n",
            "Epoch 4/200\n",
            "4923/4923 [==============================] - 1s 145us/step - loss: 55.3768 - val_loss: 34.5272\n",
            "Epoch 5/200\n",
            "4923/4923 [==============================] - 1s 143us/step - loss: 34.7124 - val_loss: 24.4463\n",
            "Epoch 6/200\n",
            "4923/4923 [==============================] - 1s 143us/step - loss: 28.5424 - val_loss: 18.9676\n",
            "Epoch 7/200\n",
            "4923/4923 [==============================] - 1s 144us/step - loss: 23.5424 - val_loss: 16.6473\n",
            "Epoch 8/200\n",
            "4923/4923 [==============================] - 1s 144us/step - loss: 21.3292 - val_loss: 14.9615\n",
            "Epoch 9/200\n",
            "4923/4923 [==============================] - 1s 145us/step - loss: 19.6904 - val_loss: 13.7437\n",
            "Epoch 10/200\n",
            "4923/4923 [==============================] - 1s 141us/step - loss: 18.8374 - val_loss: 12.9043\n",
            "Epoch 11/200\n",
            "4923/4923 [==============================] - 1s 144us/step - loss: 17.9318 - val_loss: 12.2516\n",
            "Epoch 12/200\n",
            "4923/4923 [==============================] - 1s 143us/step - loss: 17.2019 - val_loss: 11.6710\n",
            "Epoch 13/200\n",
            "4923/4923 [==============================] - 1s 143us/step - loss: 16.5702 - val_loss: 11.1813\n",
            "Epoch 14/200\n",
            "4923/4923 [==============================] - 1s 146us/step - loss: 16.2170 - val_loss: 10.7532\n",
            "Epoch 15/200\n",
            "4923/4923 [==============================] - 1s 143us/step - loss: 15.4303 - val_loss: 10.3577\n",
            "Epoch 16/200\n",
            "4923/4923 [==============================] - 1s 145us/step - loss: 14.9570 - val_loss: 10.0351\n",
            "Epoch 17/200\n",
            "4923/4923 [==============================] - 1s 143us/step - loss: 14.7613 - val_loss: 9.7264\n",
            "Epoch 18/200\n",
            "4923/4923 [==============================] - 1s 142us/step - loss: 14.2163 - val_loss: 9.4175\n",
            "Epoch 19/200\n",
            "4923/4923 [==============================] - 1s 143us/step - loss: 13.8814 - val_loss: 9.2060\n",
            "Epoch 20/200\n",
            "4923/4923 [==============================] - 1s 143us/step - loss: 13.5717 - val_loss: 8.9414\n",
            "Epoch 21/200\n",
            "4923/4923 [==============================] - 1s 144us/step - loss: 13.2053 - val_loss: 8.7829\n",
            "Epoch 22/200\n",
            "4923/4923 [==============================] - 1s 144us/step - loss: 12.8915 - val_loss: 8.5411\n",
            "Epoch 23/200\n",
            "4923/4923 [==============================] - 1s 145us/step - loss: 12.5077 - val_loss: 8.3663\n",
            "Epoch 24/200\n",
            "4923/4923 [==============================] - 1s 144us/step - loss: 12.1066 - val_loss: 8.1840\n",
            "Epoch 25/200\n",
            "4923/4923 [==============================] - 1s 142us/step - loss: 12.0282 - val_loss: 8.0308\n",
            "Epoch 26/200\n",
            "4923/4923 [==============================] - 1s 143us/step - loss: 11.7461 - val_loss: 7.8891\n",
            "Epoch 27/200\n",
            "4923/4923 [==============================] - 1s 145us/step - loss: 11.5244 - val_loss: 7.7407\n",
            "Epoch 28/200\n",
            "4923/4923 [==============================] - 1s 143us/step - loss: 11.2685 - val_loss: 7.6456\n",
            "Epoch 29/200\n",
            "4923/4923 [==============================] - 1s 147us/step - loss: 10.9319 - val_loss: 7.4912\n",
            "Epoch 30/200\n",
            "4923/4923 [==============================] - 1s 143us/step - loss: 10.9115 - val_loss: 7.3889\n",
            "Epoch 31/200\n",
            "4923/4923 [==============================] - 1s 143us/step - loss: 10.7089 - val_loss: 7.2855\n",
            "Epoch 32/200\n",
            "4923/4923 [==============================] - 1s 143us/step - loss: 10.3874 - val_loss: 7.1804\n",
            "Epoch 33/200\n",
            "4923/4923 [==============================] - 1s 144us/step - loss: 10.2160 - val_loss: 7.0921\n",
            "Epoch 34/200\n",
            "4923/4923 [==============================] - 1s 144us/step - loss: 10.2732 - val_loss: 7.0284\n",
            "Epoch 35/200\n",
            "4923/4923 [==============================] - 1s 143us/step - loss: 9.9556 - val_loss: 6.9169\n",
            "Epoch 36/200\n",
            "4923/4923 [==============================] - 1s 144us/step - loss: 9.8376 - val_loss: 6.8440\n",
            "Epoch 37/200\n",
            "4923/4923 [==============================] - 1s 144us/step - loss: 9.5077 - val_loss: 6.7523\n",
            "Epoch 38/200\n",
            "4923/4923 [==============================] - 1s 143us/step - loss: 9.3890 - val_loss: 6.6978\n",
            "Epoch 39/200\n",
            "4923/4923 [==============================] - 1s 146us/step - loss: 9.3339 - val_loss: 6.6111\n",
            "Epoch 40/200\n",
            "4923/4923 [==============================] - 1s 146us/step - loss: 9.2140 - val_loss: 6.5550\n",
            "Epoch 41/200\n",
            "4923/4923 [==============================] - 1s 145us/step - loss: 8.9843 - val_loss: 6.4956\n",
            "Epoch 42/200\n",
            "4923/4923 [==============================] - 1s 178us/step - loss: 9.1004 - val_loss: 6.4412\n",
            "Epoch 43/200\n",
            "4923/4923 [==============================] - 1s 145us/step - loss: 8.8374 - val_loss: 6.3787\n",
            "Epoch 44/200\n",
            "4923/4923 [==============================] - 1s 144us/step - loss: 8.6369 - val_loss: 6.3091\n",
            "Epoch 45/200\n",
            "4923/4923 [==============================] - 1s 144us/step - loss: 8.7059 - val_loss: 6.2541\n",
            "Epoch 46/200\n",
            "4923/4923 [==============================] - 1s 144us/step - loss: 8.4869 - val_loss: 6.2254\n",
            "Epoch 47/200\n",
            "4923/4923 [==============================] - 1s 144us/step - loss: 8.4095 - val_loss: 6.1644\n",
            "Epoch 48/200\n",
            "4923/4923 [==============================] - 1s 142us/step - loss: 8.3269 - val_loss: 6.1442\n",
            "Epoch 49/200\n",
            "4923/4923 [==============================] - 1s 145us/step - loss: 8.2039 - val_loss: 6.0749\n",
            "Epoch 50/200\n",
            "4923/4923 [==============================] - 1s 145us/step - loss: 8.0239 - val_loss: 6.1005\n",
            "Epoch 51/200\n",
            "4923/4923 [==============================] - 1s 142us/step - loss: 7.9561 - val_loss: 6.0211\n",
            "Epoch 52/200\n",
            "4923/4923 [==============================] - 1s 143us/step - loss: 8.0369 - val_loss: 5.9553\n",
            "Epoch 53/200\n",
            "4923/4923 [==============================] - 1s 145us/step - loss: 7.7704 - val_loss: 5.9259\n",
            "Epoch 54/200\n",
            "4923/4923 [==============================] - 1s 146us/step - loss: 7.8184 - val_loss: 5.8972\n",
            "Epoch 55/200\n",
            "4923/4923 [==============================] - 1s 145us/step - loss: 7.5866 - val_loss: 5.8371\n",
            "Epoch 56/200\n",
            "4923/4923 [==============================] - 1s 146us/step - loss: 7.5494 - val_loss: 5.8111\n",
            "Epoch 57/200\n",
            "4923/4923 [==============================] - 1s 144us/step - loss: 7.5520 - val_loss: 5.7607\n",
            "Epoch 58/200\n",
            "4923/4923 [==============================] - 1s 147us/step - loss: 7.3424 - val_loss: 5.7413\n",
            "Epoch 59/200\n",
            "4923/4923 [==============================] - 1s 144us/step - loss: 7.2521 - val_loss: 5.7060\n",
            "Epoch 60/200\n",
            "4923/4923 [==============================] - 1s 143us/step - loss: 7.2078 - val_loss: 5.6942\n",
            "Epoch 61/200\n",
            "4923/4923 [==============================] - 1s 144us/step - loss: 7.1796 - val_loss: 5.6380\n",
            "Epoch 62/200\n",
            "4923/4923 [==============================] - 1s 145us/step - loss: 7.3007 - val_loss: 5.6373\n",
            "Epoch 63/200\n",
            "4923/4923 [==============================] - 1s 145us/step - loss: 7.1329 - val_loss: 5.6499\n",
            "Epoch 64/200\n",
            "4923/4923 [==============================] - 1s 144us/step - loss: 7.0790 - val_loss: 5.5671\n",
            "Epoch 65/200\n",
            "4923/4923 [==============================] - 1s 144us/step - loss: 6.9762 - val_loss: 5.5494\n",
            "Epoch 66/200\n",
            "4923/4923 [==============================] - 1s 145us/step - loss: 6.9767 - val_loss: 5.5201\n",
            "Epoch 67/200\n",
            "4923/4923 [==============================] - 1s 145us/step - loss: 6.8096 - val_loss: 5.5264\n",
            "Epoch 68/200\n",
            "4923/4923 [==============================] - 1s 144us/step - loss: 6.7408 - val_loss: 5.4933\n",
            "Epoch 69/200\n",
            "4923/4923 [==============================] - 1s 143us/step - loss: 6.7342 - val_loss: 5.4478\n",
            "Epoch 70/200\n",
            "4923/4923 [==============================] - 1s 145us/step - loss: 6.6506 - val_loss: 5.4337\n",
            "Epoch 71/200\n",
            "4923/4923 [==============================] - 1s 143us/step - loss: 6.6062 - val_loss: 5.4083\n",
            "Epoch 72/200\n",
            "4923/4923 [==============================] - 1s 145us/step - loss: 6.3859 - val_loss: 5.3885\n",
            "Epoch 73/200\n",
            "4923/4923 [==============================] - 1s 143us/step - loss: 6.5194 - val_loss: 5.3677\n",
            "Epoch 74/200\n",
            "4923/4923 [==============================] - 1s 144us/step - loss: 6.4679 - val_loss: 5.3487\n",
            "Epoch 75/200\n",
            "4923/4923 [==============================] - 1s 144us/step - loss: 6.3410 - val_loss: 5.3470\n",
            "Epoch 76/200\n",
            "4923/4923 [==============================] - 1s 146us/step - loss: 6.4041 - val_loss: 5.3269\n",
            "Epoch 77/200\n",
            "4923/4923 [==============================] - 1s 144us/step - loss: 6.2537 - val_loss: 5.3470\n",
            "Epoch 78/200\n",
            "4923/4923 [==============================] - 1s 145us/step - loss: 6.2803 - val_loss: 5.3522\n",
            "Epoch 79/200\n",
            "4923/4923 [==============================] - 1s 146us/step - loss: 6.1407 - val_loss: 5.3004\n",
            "Epoch 80/200\n",
            "4923/4923 [==============================] - 1s 146us/step - loss: 6.2097 - val_loss: 5.2554\n",
            "Epoch 81/200\n",
            "4923/4923 [==============================] - 1s 143us/step - loss: 5.9093 - val_loss: 5.2298\n",
            "Epoch 82/200\n",
            "4923/4923 [==============================] - 1s 143us/step - loss: 6.0022 - val_loss: 5.2383\n",
            "Epoch 83/200\n",
            "4923/4923 [==============================] - 1s 143us/step - loss: 6.0764 - val_loss: 5.2261\n",
            "Epoch 84/200\n",
            "4923/4923 [==============================] - 1s 144us/step - loss: 5.9557 - val_loss: 5.2545\n",
            "Epoch 85/200\n",
            "4923/4923 [==============================] - 1s 143us/step - loss: 5.9571 - val_loss: 5.2054\n",
            "Epoch 86/200\n",
            "4923/4923 [==============================] - 1s 145us/step - loss: 5.8557 - val_loss: 5.1481\n",
            "Epoch 87/200\n",
            "4923/4923 [==============================] - 1s 144us/step - loss: 5.7996 - val_loss: 5.1490\n",
            "Epoch 88/200\n",
            "4923/4923 [==============================] - 1s 148us/step - loss: 5.6851 - val_loss: 5.1347\n",
            "Epoch 89/200\n",
            "4923/4923 [==============================] - 1s 146us/step - loss: 5.7533 - val_loss: 5.1361\n",
            "Epoch 90/200\n",
            "4923/4923 [==============================] - 1s 144us/step - loss: 5.6915 - val_loss: 5.1342\n",
            "Epoch 91/200\n",
            "4923/4923 [==============================] - 1s 143us/step - loss: 5.6431 - val_loss: 5.0991\n",
            "Epoch 92/200\n",
            "4923/4923 [==============================] - 1s 143us/step - loss: 5.6181 - val_loss: 5.0903\n",
            "Epoch 93/200\n",
            "4923/4923 [==============================] - 1s 145us/step - loss: 5.6916 - val_loss: 5.0822\n",
            "Epoch 94/200\n",
            "4923/4923 [==============================] - 1s 143us/step - loss: 5.5721 - val_loss: 5.1544\n",
            "Epoch 95/200\n",
            "4923/4923 [==============================] - 1s 143us/step - loss: 5.5285 - val_loss: 5.1305\n",
            "Epoch 96/200\n",
            "4923/4923 [==============================] - 1s 144us/step - loss: 5.5671 - val_loss: 5.1029\n",
            "Epoch 97/200\n",
            "4923/4923 [==============================] - 1s 143us/step - loss: 5.5213 - val_loss: 5.0775\n",
            "Epoch 98/200\n",
            "4923/4923 [==============================] - 1s 146us/step - loss: 5.4245 - val_loss: 5.0449\n",
            "Epoch 99/200\n",
            "4923/4923 [==============================] - 1s 144us/step - loss: 5.3515 - val_loss: 5.0459\n",
            "Epoch 100/200\n",
            "4923/4923 [==============================] - 1s 142us/step - loss: 5.4209 - val_loss: 5.0240\n",
            "Epoch 101/200\n",
            "4923/4923 [==============================] - 1s 144us/step - loss: 5.2022 - val_loss: 5.0135\n",
            "Epoch 102/200\n",
            "4923/4923 [==============================] - 1s 145us/step - loss: 5.3406 - val_loss: 4.9938\n",
            "Epoch 103/200\n",
            "4923/4923 [==============================] - 1s 147us/step - loss: 5.3161 - val_loss: 4.9941\n",
            "Epoch 104/200\n",
            "4923/4923 [==============================] - 1s 144us/step - loss: 5.1697 - val_loss: 5.0357\n",
            "Epoch 105/200\n",
            "4923/4923 [==============================] - 1s 147us/step - loss: 5.1467 - val_loss: 5.0503\n",
            "Epoch 106/200\n",
            "4923/4923 [==============================] - 1s 144us/step - loss: 5.2133 - val_loss: 4.9645\n",
            "Epoch 107/200\n",
            "4923/4923 [==============================] - 1s 143us/step - loss: 5.1852 - val_loss: 4.9714\n",
            "Epoch 108/200\n",
            "4923/4923 [==============================] - 1s 146us/step - loss: 5.1735 - val_loss: 4.9621\n",
            "Epoch 109/200\n",
            "4923/4923 [==============================] - 1s 144us/step - loss: 5.1073 - val_loss: 4.9997\n",
            "Epoch 110/200\n",
            "4923/4923 [==============================] - 1s 144us/step - loss: 5.0933 - val_loss: 4.9447\n",
            "Epoch 111/200\n",
            "4923/4923 [==============================] - 1s 145us/step - loss: 5.0992 - val_loss: 4.9763\n",
            "Epoch 112/200\n",
            "4923/4923 [==============================] - 1s 145us/step - loss: 5.1278 - val_loss: 4.9356\n",
            "Epoch 113/200\n",
            "4923/4923 [==============================] - 1s 143us/step - loss: 5.1045 - val_loss: 5.0233\n",
            "Epoch 114/200\n",
            "4923/4923 [==============================] - 1s 145us/step - loss: 5.1270 - val_loss: 4.9237\n",
            "Epoch 115/200\n",
            "4923/4923 [==============================] - 1s 147us/step - loss: 5.0894 - val_loss: 4.9247\n",
            "Epoch 116/200\n",
            "4923/4923 [==============================] - 1s 145us/step - loss: 4.8699 - val_loss: 4.9164\n",
            "Epoch 117/200\n",
            "4923/4923 [==============================] - 1s 145us/step - loss: 4.9058 - val_loss: 4.9535\n",
            "Epoch 118/200\n",
            "4923/4923 [==============================] - 1s 146us/step - loss: 5.0211 - val_loss: 4.9435\n",
            "Epoch 119/200\n",
            "4923/4923 [==============================] - 1s 146us/step - loss: 4.8386 - val_loss: 4.8984\n",
            "Epoch 120/200\n",
            "4923/4923 [==============================] - 1s 144us/step - loss: 4.7595 - val_loss: 4.8898\n",
            "Epoch 121/200\n",
            "4923/4923 [==============================] - 1s 144us/step - loss: 4.8434 - val_loss: 4.8852\n",
            "Epoch 122/200\n",
            "4923/4923 [==============================] - 1s 145us/step - loss: 4.7940 - val_loss: 4.9029\n",
            "Epoch 123/200\n",
            "4923/4923 [==============================] - 1s 144us/step - loss: 4.7577 - val_loss: 4.9420\n",
            "Epoch 124/200\n",
            "4923/4923 [==============================] - 1s 143us/step - loss: 4.7879 - val_loss: 4.8887\n",
            "Epoch 125/200\n",
            "4923/4923 [==============================] - 1s 145us/step - loss: 4.7734 - val_loss: 4.9521\n",
            "Epoch 126/200\n",
            "4923/4923 [==============================] - 1s 146us/step - loss: 4.7318 - val_loss: 4.9135\n",
            "Epoch 127/200\n",
            "4923/4923 [==============================] - 1s 144us/step - loss: 4.6885 - val_loss: 4.8717\n",
            "Epoch 128/200\n",
            "4923/4923 [==============================] - 1s 143us/step - loss: 4.6270 - val_loss: 4.8818\n",
            "Epoch 129/200\n",
            "4923/4923 [==============================] - 1s 144us/step - loss: 4.6074 - val_loss: 4.9469\n",
            "Epoch 130/200\n",
            "4923/4923 [==============================] - 1s 143us/step - loss: 4.6679 - val_loss: 4.9079\n",
            "Epoch 131/200\n",
            "4923/4923 [==============================] - 1s 144us/step - loss: 4.7633 - val_loss: 4.8859\n",
            "Epoch 132/200\n",
            "4923/4923 [==============================] - 1s 145us/step - loss: 4.5410 - val_loss: 4.8986\n",
            "Epoch 133/200\n",
            "4923/4923 [==============================] - 1s 144us/step - loss: 4.6300 - val_loss: 4.8642\n",
            "Epoch 134/200\n",
            "4923/4923 [==============================] - 1s 145us/step - loss: 4.6093 - val_loss: 4.8433\n",
            "Epoch 135/200\n",
            "4923/4923 [==============================] - 1s 144us/step - loss: 4.3546 - val_loss: 4.8337\n",
            "Epoch 136/200\n",
            "4923/4923 [==============================] - 1s 144us/step - loss: 4.4911 - val_loss: 4.8438\n",
            "Epoch 137/200\n",
            "4923/4923 [==============================] - 1s 144us/step - loss: 4.5281 - val_loss: 4.8750\n",
            "Epoch 138/200\n",
            "4923/4923 [==============================] - 1s 147us/step - loss: 4.4792 - val_loss: 4.8381\n",
            "Epoch 139/200\n",
            "4923/4923 [==============================] - 1s 145us/step - loss: 4.4205 - val_loss: 4.9179\n",
            "Epoch 140/200\n",
            "4923/4923 [==============================] - 1s 145us/step - loss: 4.3862 - val_loss: 4.8499\n",
            "Epoch 141/200\n",
            "4923/4923 [==============================] - 1s 147us/step - loss: 4.4602 - val_loss: 4.8493\n",
            "Epoch 142/200\n",
            "4923/4923 [==============================] - 1s 143us/step - loss: 4.3664 - val_loss: 4.8389\n",
            "Epoch 143/200\n",
            "4923/4923 [==============================] - 1s 144us/step - loss: 4.4340 - val_loss: 4.8164\n",
            "Epoch 144/200\n",
            "4923/4923 [==============================] - 1s 144us/step - loss: 4.3794 - val_loss: 4.9428\n",
            "Epoch 145/200\n",
            "4923/4923 [==============================] - 1s 146us/step - loss: 4.3807 - val_loss: 5.0178\n",
            "Epoch 146/200\n",
            "4923/4923 [==============================] - 1s 144us/step - loss: 4.3930 - val_loss: 4.8822\n",
            "Epoch 147/200\n",
            "4923/4923 [==============================] - 1s 144us/step - loss: 4.2803 - val_loss: 4.8514\n",
            "Epoch 148/200\n",
            "4923/4923 [==============================] - 1s 143us/step - loss: 4.3525 - val_loss: 4.8540\n",
            "Epoch 149/200\n",
            "4923/4923 [==============================] - 1s 145us/step - loss: 4.3721 - val_loss: 4.8535\n",
            "Epoch 150/200\n",
            "4923/4923 [==============================] - 1s 143us/step - loss: 4.2204 - val_loss: 4.8158\n",
            "Epoch 151/200\n",
            "4923/4923 [==============================] - 1s 143us/step - loss: 4.3017 - val_loss: 4.8101\n",
            "Epoch 152/200\n",
            "4923/4923 [==============================] - 1s 143us/step - loss: 4.2529 - val_loss: 4.8011\n",
            "Epoch 153/200\n",
            "4923/4923 [==============================] - 1s 143us/step - loss: 4.2560 - val_loss: 4.8660\n",
            "Epoch 154/200\n",
            "4923/4923 [==============================] - 1s 143us/step - loss: 4.1362 - val_loss: 4.8062\n",
            "Epoch 155/200\n",
            "4923/4923 [==============================] - 1s 146us/step - loss: 4.1940 - val_loss: 4.9045\n",
            "Epoch 156/200\n",
            "4923/4923 [==============================] - 1s 143us/step - loss: 4.1353 - val_loss: 4.8050\n",
            "Epoch 157/200\n",
            "4923/4923 [==============================] - 1s 144us/step - loss: 4.2437 - val_loss: 4.8320\n",
            "Epoch 158/200\n",
            "4923/4923 [==============================] - 1s 145us/step - loss: 4.1664 - val_loss: 4.7888\n",
            "Epoch 159/200\n",
            "4923/4923 [==============================] - 1s 142us/step - loss: 4.1441 - val_loss: 4.8466\n",
            "Epoch 160/200\n",
            "4923/4923 [==============================] - 1s 145us/step - loss: 4.1392 - val_loss: 4.7830\n",
            "Epoch 161/200\n",
            "4923/4923 [==============================] - 1s 143us/step - loss: 4.1231 - val_loss: 4.9045\n",
            "Epoch 162/200\n",
            "4923/4923 [==============================] - 1s 145us/step - loss: 4.1498 - val_loss: 4.8065\n",
            "Epoch 163/200\n",
            "4923/4923 [==============================] - 1s 143us/step - loss: 4.0930 - val_loss: 4.9739\n",
            "Epoch 164/200\n",
            "4923/4923 [==============================] - 1s 144us/step - loss: 4.1406 - val_loss: 4.7967\n",
            "Epoch 165/200\n",
            "4923/4923 [==============================] - 1s 145us/step - loss: 4.0837 - val_loss: 4.7637\n",
            "Epoch 166/200\n",
            "4923/4923 [==============================] - 1s 145us/step - loss: 4.1295 - val_loss: 4.7860\n",
            "Epoch 167/200\n",
            "4923/4923 [==============================] - 1s 145us/step - loss: 4.0542 - val_loss: 4.8846\n",
            "Epoch 168/200\n",
            "4923/4923 [==============================] - 1s 146us/step - loss: 4.0580 - val_loss: 4.7723\n",
            "Epoch 169/200\n",
            "4923/4923 [==============================] - 1s 145us/step - loss: 4.0091 - val_loss: 4.7898\n",
            "Epoch 170/200\n",
            "4923/4923 [==============================] - 1s 145us/step - loss: 4.0643 - val_loss: 4.8166\n",
            "Epoch 171/200\n",
            "4923/4923 [==============================] - 1s 142us/step - loss: 4.0671 - val_loss: 4.7821\n",
            "Epoch 172/200\n",
            "4923/4923 [==============================] - 1s 144us/step - loss: 4.0917 - val_loss: 4.7920\n",
            "Epoch 173/200\n",
            "4923/4923 [==============================] - 1s 144us/step - loss: 3.8841 - val_loss: 4.7786\n",
            "Epoch 174/200\n",
            "4923/4923 [==============================] - 1s 143us/step - loss: 3.9306 - val_loss: 4.7835\n",
            "Epoch 175/200\n",
            "4923/4923 [==============================] - 1s 143us/step - loss: 3.9591 - val_loss: 4.7685\n"
          ],
          "name": "stdout"
        },
        {
          "output_type": "execute_result",
          "data": {
            "text/plain": [
              "<keras.callbacks.History at 0x7f93603f9128>"
            ]
          },
          "metadata": {
            "tags": []
          },
          "execution_count": 28
        }
      ]
    },
    {
      "cell_type": "code",
      "metadata": {
        "id": "06IuQcjO7fLq",
        "colab_type": "code",
        "outputId": "e336d87e-0f79-4059-8edf-1a4b14bc5fee",
        "colab": {
          "base_uri": "https://localhost:8080/",
          "height": 269
        }
      },
      "source": [
        "# get predictions\n",
        "predictions = model.predict(features_valid)\n",
        "\n",
        "# extract validation images\n",
        "_, valid_images, _, _ = train_test_split(data.image_name,y,test_size=0.3, random_state=42)\n",
        "\n",
        "# get random validation image index\n",
        "idx = rng.choice(range(len(valid_images)))\n",
        "\n",
        "# get the corresponding image name\n",
        "image_name = valid_images.iloc[idx]\n",
        "\n",
        "# get the actual targets\n",
        "left_eye_center_x = data.loc[data.image_name == image_name, 'left_eye_center_x']\n",
        "left_eye_center_y = data.loc[data.image_name == image_name, 'left_eye_center_y']\n",
        "right_eye_center_x = data.loc[data.image_name == image_name, 'right_eye_center_x']\n",
        "right_eye_center_y = data.loc[data.image_name == image_name, 'right_eye_center_y']\n",
        "\n",
        "# get the corresponding predictions\n",
        "predicted_left_eye_center_x, predicted_left_eye_center_y, predicted_right_eye_center_x, predicted_right_eye_center_y = predictions[idx]\n",
        "\n",
        "# read the image\n",
        "img = plt.imread('data/facial_keypoint_identification/images/' + image_name)\n",
        "\n",
        "# plot empty figure\n",
        "fig = plt.figure()\n",
        "\n",
        "# plot image\n",
        "plt.imshow(img,cmap='gray')\n",
        "\n",
        "# plot actual targets\n",
        "plt.scatter(left_eye_center_x, left_eye_center_y, marker='x', s=50, c='r')\n",
        "plt.scatter(right_eye_center_x, right_eye_center_y, marker='x', s=50, c='r')\n",
        "\n",
        "# plot predictions\n",
        "plt.scatter(predicted_left_eye_center_x, predicted_left_eye_center_y, marker='o', s=50, c='w')\n",
        "plt.scatter(predicted_right_eye_center_x, predicted_right_eye_center_y, marker='o', s=50, c='w')\n",
        "\n",
        "# show the figure\n",
        "plt.show()"
      ],
      "execution_count": 0,
      "outputs": [
        {
          "output_type": "display_data",
          "data": {
            "image/png": "[encoded data removed]",
            "text/plain": [
              "<Figure size 432x288 with 1 Axes>"
            ]
          },
          "metadata": {
            "tags": []
          }
        }
      ]
    },
    {
      "cell_type": "code",
      "metadata": {
        "id": "8zlc0BPt7fL5",
        "colab_type": "code",
        "colab": {}
      },
      "source": [
        ""
      ],
      "execution_count": 0,
      "outputs": []
    }
  ]
}